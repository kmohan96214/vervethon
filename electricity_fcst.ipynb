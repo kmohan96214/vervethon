{
 "cells": [
  {
   "cell_type": "code",
   "execution_count": 113,
   "metadata": {},
   "outputs": [],
   "source": [
    "#IMPORT required modules\n",
    "import pandas as pd\n",
    "import numpy as np\n",
    "from datetime import datetime\n",
    "import holidays\n",
    "from matplotlib import pyplot as plt"
   ]
  },
  {
   "cell_type": "code",
   "execution_count": 103,
   "metadata": {},
   "outputs": [],
   "source": [
    "elec_csmp = pd.read_csv('train.csv',sep=',')\n",
    "elec_csmp['datetime'] = pd.to_datetime(elec_csmp['datetime'])"
   ]
  },
  {
   "cell_type": "code",
   "execution_count": 104,
   "metadata": {},
   "outputs": [],
   "source": [
    "elec_csmp = elec_csmp.drop(columns=['var1','var2'])"
   ]
  },
  {
   "cell_type": "code",
   "execution_count": 105,
   "metadata": {},
   "outputs": [],
   "source": [
    "s = {1:4,2:4,3:1,4:1,5:1,6:2,7:2,8:2,9:3,10:3,11:3,12:4}\n",
    "season = pd.Series([s[i.month] for i in elec_csmp['datetime']])\n",
    "elec_csmp['season'] = season"
   ]
  },
  {
   "cell_type": "code",
   "execution_count": 106,
   "metadata": {},
   "outputs": [],
   "source": [
    "us_holidays = holidays.UnitedStates()\n",
    "hldy = pd.Series([ 1 if (i in us_holidays) or (i.isoweekday()>5) else 0 for i in elec_csmp['datetime'] ])\n",
    "elec_csmp['holiday'] = hldy"
   ]
  },
  {
   "cell_type": "code",
   "execution_count": 133,
   "metadata": {},
   "outputs": [
    {
     "data": {
      "text/plain": [
       "[<matplotlib.lines.Line2D at 0x20743b05358>]"
      ]
     },
     "execution_count": 133,
     "metadata": {},
     "output_type": "execute_result"
    },
    {
     "data": {
      "image/png": "[encoded data removed]",
      "text/plain": [
       "<Figure size 432x288 with 1 Axes>"
      ]
     },
     "metadata": {},
     "output_type": "display_data"
    }
   ],
   "source": [
    "temp = pd.Series([i.hour for i in elec_csmp['datetime']])\n",
    "elec_csmp['temp'] = temp\n",
    "#plt.plot([i for i in range(0,24)],elec_csmp.groupby(['temp']).mean()['electricity_consumption'] )\n",
    "j=0\n",
    "xh = []\n",
    "xno = []\n",
    "for i in elec_csmp.groupby(['temp','holiday']).mean()['electricity_consumption']:\n",
    "    if(j%2==0):\n",
    "        xh.append(i)\n",
    "    else:\n",
    "        xno.append(i)\n",
    "    j+=1\n",
    "plt.plot(xh)\n",
    "plt.plot(xno)"
   ]
  },
  {
   "cell_type": "code",
   "execution_count": 107,
   "metadata": {},
   "outputs": [
    {
     "data": {
      "text/html": [
       "<div>\n",
       "<style scoped>\n",
       "    .dataframe tbody tr th:only-of-type {\n",
       "        vertical-align: middle;\n",
       "    }\n",
       "\n",
       "    .dataframe tbody tr th {\n",
       "        vertical-align: top;\n",
       "    }\n",
       "\n",
       "    .dataframe thead th {\n",
       "        text-align: right;\n",
       "    }\n",
       "</style>\n",
       "<table border=\"1\" class=\"dataframe\">\n",
       "  <thead>\n",
       "    <tr style=\"text-align: right;\">\n",
       "      <th></th>\n",
       "      <th>ID</th>\n",
       "      <th>datetime</th>\n",
       "      <th>temperature</th>\n",
       "      <th>pressure</th>\n",
       "      <th>windspeed</th>\n",
       "      <th>electricity_consumption</th>\n",
       "      <th>season</th>\n",
       "      <th>holiday</th>\n",
       "    </tr>\n",
       "  </thead>\n",
       "  <tbody>\n",
       "    <tr>\n",
       "      <th>0</th>\n",
       "      <td>0</td>\n",
       "      <td>2013-07-01 00:00:00</td>\n",
       "      <td>-11.4</td>\n",
       "      <td>1003.0</td>\n",
       "      <td>571.910</td>\n",
       "      <td>216.0</td>\n",
       "      <td>2</td>\n",
       "      <td>0</td>\n",
       "    </tr>\n",
       "    <tr>\n",
       "      <th>1</th>\n",
       "      <td>1</td>\n",
       "      <td>2013-07-01 01:00:00</td>\n",
       "      <td>-12.1</td>\n",
       "      <td>996.0</td>\n",
       "      <td>575.040</td>\n",
       "      <td>210.0</td>\n",
       "      <td>2</td>\n",
       "      <td>0</td>\n",
       "    </tr>\n",
       "    <tr>\n",
       "      <th>2</th>\n",
       "      <td>2</td>\n",
       "      <td>2013-07-01 02:00:00</td>\n",
       "      <td>-12.9</td>\n",
       "      <td>1000.0</td>\n",
       "      <td>578.435</td>\n",
       "      <td>225.0</td>\n",
       "      <td>2</td>\n",
       "      <td>0</td>\n",
       "    </tr>\n",
       "    <tr>\n",
       "      <th>3</th>\n",
       "      <td>3</td>\n",
       "      <td>2013-07-01 03:00:00</td>\n",
       "      <td>-11.4</td>\n",
       "      <td>995.0</td>\n",
       "      <td>582.580</td>\n",
       "      <td>216.0</td>\n",
       "      <td>2</td>\n",
       "      <td>0</td>\n",
       "    </tr>\n",
       "    <tr>\n",
       "      <th>4</th>\n",
       "      <td>4</td>\n",
       "      <td>2013-07-01 04:00:00</td>\n",
       "      <td>-11.4</td>\n",
       "      <td>1005.0</td>\n",
       "      <td>586.600</td>\n",
       "      <td>222.0</td>\n",
       "      <td>2</td>\n",
       "      <td>0</td>\n",
       "    </tr>\n",
       "  </tbody>\n",
       "</table>\n",
       "</div>"
      ],
      "text/plain": [
       "   ID            datetime  temperature  pressure  windspeed  \\\n",
       "0   0 2013-07-01 00:00:00        -11.4    1003.0    571.910   \n",
       "1   1 2013-07-01 01:00:00        -12.1     996.0    575.040   \n",
       "2   2 2013-07-01 02:00:00        -12.9    1000.0    578.435   \n",
       "3   3 2013-07-01 03:00:00        -11.4     995.0    582.580   \n",
       "4   4 2013-07-01 04:00:00        -11.4    1005.0    586.600   \n",
       "\n",
       "   electricity_consumption  season  holiday  \n",
       "0                    216.0       2        0  \n",
       "1                    210.0       2        0  \n",
       "2                    225.0       2        0  \n",
       "3                    216.0       2        0  \n",
       "4                    222.0       2        0  "
      ]
     },
     "execution_count": 107,
     "metadata": {},
     "output_type": "execute_result"
    }
   ],
   "source": [
    "#first 5 tuples of the tables\n",
    "elec_csmp.head()\n",
    "#print(elec_csmp['electricity_consumption'].mean())\n",
    "#print(elec_csmp.groupby(['season']).mean())\n",
    "#print(elec_csmp.groupby(['holiday']).mean())\n",
    "#0 missing values\n",
    "#print(sum(elec_csmp.isnull().values.ravel()))"
   ]
  },
  {
   "cell_type": "markdown",
   "metadata": {},
   "source": [
    "<b>Training samples : </b><br>\n",
    " The original nonnegative data series <i>X0</i> with <i>m</i> samples denotes the electricity consumption, which is expressed as follows:<br>\n",
    "$$X0 = X0(0),X0(1)...X0(m) $$<br>\n",
    "\n",
    "<b>1-AGO (one-time accumulating generation operation):</b><br>\n",
    "$$X1 = X1(0),X1(1)....X1(m)$$ <br>\n",
    "where\n",
    "$$x1(k)=\\sum_{i=0}^k x0(i)\\ , \\ k= 1,2,3,4..m$$ \n"
   ]
  },
  {
   "cell_type": "code",
   "execution_count": 4,
   "metadata": {},
   "outputs": [],
   "source": [
    "# X = required column for training\n",
    "X = elec_csmp['electricity_consumption']\n",
    "X0 = np.array(X)\n",
    "X1 = np.cumsum(X0)"
   ]
  },
  {
   "cell_type": "markdown",
   "metadata": {},
   "source": [
    "The general <b>GM(1,1)</b> is described by the following grey differential equation:<br>\n",
    "<br>$$x(0)\\:+a.z1(k)\\:=\\:b$$<br>\n",
    "\n",
    "where a is the grey developmental coefficient and b is the grey control parameter. Thus,\n",
    "<br>$$z1(k)\\:=(1-\\alpha).x1(k)\\:+\\:\\alpha . x1(k-1)$$<br>"
   ]
  },
  {
   "cell_type": "code",
   "execution_count": 5,
   "metadata": {},
   "outputs": [],
   "source": [
    "alpha = 0.5\n",
    "Z1 = (1-alpha)*X1[1:] + alpha*X1[:-1]\n",
    "#print((Z1))"
   ]
  },
  {
   "cell_type": "code",
   "execution_count": 12,
   "metadata": {},
   "outputs": [],
   "source": [
    "#coefficient caclulation\n",
    "B = np.vstack((-Z1,np.ones(len(Z1)))).T\n",
    "Y = X0[1:]\n",
    "\n",
    "#coef =[a,b] = (bt * b)inv * bt * y\n",
    "coef = np.dot(B.T,B)\n",
    "coef = np.linalg.inv(coef)\n",
    "coef = np.dot(coef,B.T)\n",
    "coef = np.dot(coef,Y)"
   ]
  },
  {
   "cell_type": "code",
   "execution_count": 19,
   "metadata": {},
   "outputs": [
    {
     "name": "stdout",
     "output_type": "stream",
     "text": [
      "a = 4.183686479715328e-07 b = 300.01952097917206\n"
     ]
    }
   ],
   "source": [
    "print(f\"a = {coef[0]} b = {coef[1]}\")"
   ]
  }
 ],
 "metadata": {
  "kernelspec": {
   "display_name": "Python 3",
   "language": "python",
   "name": "python3"
  },
  "language_info": {
   "codemirror_mode": {
    "name": "ipython",
    "version": 3
   },
   "file_extension": ".py",
   "mimetype": "text/x-python",
   "name": "python",
   "nbconvert_exporter": "python",
   "pygments_lexer": "ipython3",
   "version": "3.6.5"
  }
 },
 "nbformat": 4,
 "nbformat_minor": 2
}
